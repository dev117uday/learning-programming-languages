{
 "cells": [
  {
   "cell_type": "code",
   "execution_count": 2,
   "metadata": {},
   "outputs": [],
   "source": [
    "from PIL import Image\n",
    "img = Image.open(f\"./original.png\")\n",
    "\n",
    "dimensions = [32,72,96,128,144,152,192,384,512]\n",
    "\n",
    "for i in range(0,9):\n",
    "    newsize = (dimensions[i],dimensions[i]) \n",
    "    img_resize = img.resize(newsize) \n",
    "    img_resize.save(f'./icons/icon-{dimensions[i]}x{dimensions[i]}.png')\n"
   ]
  },
  {
   "cell_type": "code",
   "execution_count": null,
   "metadata": {},
   "outputs": [],
   "source": []
  }
 ],
 "metadata": {
  "kernelspec": {
   "display_name": "Python 3",
   "language": "python",
   "name": "python3"
  },
  "language_info": {
   "codemirror_mode": {
    "name": "ipython",
    "version": 3
   },
   "file_extension": ".py",
   "mimetype": "text/x-python",
   "name": "python",
   "nbconvert_exporter": "python",
   "pygments_lexer": "ipython3",
   "version": "3.8.2"
  }
 },
 "nbformat": 4,
 "nbformat_minor": 4
}
