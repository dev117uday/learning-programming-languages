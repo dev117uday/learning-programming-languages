{
 "cells": [
  {
   "cell_type": "code",
   "execution_count": 1,
   "metadata": {},
   "outputs": [],
   "source": [
    "from PIL import Image\n",
    "from datetime import datetime\n",
    "img1 = (0,0,1060,1600)\n",
    "img2 = (1060,0,2550,1110)\n",
    "img3 = (1110,1200,2550,2365)\n",
    "img4 = (0,1970,1060,3500)\n",
    "img5 = (1060,2400,2500,3500)"
   ]
  },
  {
   "cell_type": "code",
   "execution_count": 11,
   "metadata": {},
   "outputs": [],
   "source": [
    "for i in range(1,4):\n",
    "    img = None\n",
    "    try:\n",
    "        img =  Image.open(f'./scan/{i}.png')\n",
    "        a = img.crop(img1)        \n",
    "        a.save(f'./save/img'+str(str(datetime.utcnow().strftime('%Y%m%d%H%M%S%f')))+'.png') \n",
    "        b = img.crop(img2)\n",
    "        b.save(f'./save/img'+str(str(datetime.utcnow().strftime('%Y%m%d%H%M%S%f')))+'.png')\n",
    "        c = img.crop(img3)\n",
    "        c.save(f'./save/img'+str(str(datetime.utcnow().strftime('%Y%m%d%H%M%S%f')))+'.png')\n",
    "        d = img.crop(img4)\n",
    "        d.save(f'./save/img'+str(str(datetime.utcnow().strftime('%Y%m%d%H%M%S%f')))+'.png')\n",
    "        e = img.crop(img5)\n",
    "        e.save(f'./save/img'+str(str(datetime.utcnow().strftime('%Y%m%d%H%M%S%f')))+'.png')\n",
    "        \n",
    "        \n",
    "    except FileNotFoundError:\n",
    "        pass "
   ]
  },
  {
   "cell_type": "code",
   "execution_count": null,
   "metadata": {},
   "outputs": [],
   "source": [
    "from datetime import datetime\n",
    "str(datetime.utcnow().strftime('%Y%m%d%H%M%S%f'))"
   ]
  },
  {
   "cell_type": "code",
   "execution_count": 12,
   "metadata": {},
   "outputs": [],
   "source": [
    "imgx1 = (730,0,2550,1250)\n",
    "imgx2 = (0,1660,1264,3507)\n",
    "imgx3 = (1330,1660,2550,3507)"
   ]
  },
  {
   "cell_type": "code",
   "execution_count": 13,
   "metadata": {},
   "outputs": [],
   "source": [
    "for i in range(1,13):\n",
    "    img = None\n",
    "    try:\n",
    "        img =  Image.open(f'./scan/{i}.png')\n",
    "        a = img.crop(imgx1)        \n",
    "        a.save(f'./save/img'+str(str(datetime.utcnow().strftime('%Y%m%d%H%M%S%f')))+'.png') \n",
    "        b = img.crop(imgx2)\n",
    "        b.save(f'./save/img'+str(str(datetime.utcnow().strftime('%Y%m%d%H%M%S%f')))+'.png')\n",
    "        c = img.crop(imgx3)\n",
    "        c.save(f'./save/img'+str(str(datetime.utcnow().strftime('%Y%m%d%H%M%S%f')))+'.png')\n",
    "    except FileNotFoundError:\n",
    "        pass "
   ]
  },
  {
   "cell_type": "code",
   "execution_count": null,
   "metadata": {},
   "outputs": [],
   "source": [
    "imgy1 = (450,0,2550,1650)\n",
    "imgy2 = (450,1800,2550,3507)"
   ]
  },
  {
   "cell_type": "code",
   "execution_count": null,
   "metadata": {},
   "outputs": [],
   "source": [
    "for i in range(1,37):\n",
    "    img = None\n",
    "    try:\n",
    "        img =  Image.open(f'./scan/{i}.png')\n",
    "        a = img.crop(imgy1)        \n",
    "        a.save(f'./save/img'+str(str(datetime.utcnow().strftime('%Y%m%d%H%M%S%f')))+'.png') \n",
    "        b = img.crop(imgy2)\n",
    "        b.save(f'./save/img'+str(str(datetime.utcnow().strftime('%Y%m%d%H%M%S%f')))+'.png')\n",
    "    except FileNotFoundError:\n",
    "        pass "
   ]
  },
  {
   "cell_type": "code",
   "execution_count": 23,
   "metadata": {},
   "outputs": [],
   "source": [
    "imgz1 = (0,0,2550,1800)\n",
    "imgz2 = (0,2050,2550,3507)"
   ]
  },
  {
   "cell_type": "code",
   "execution_count": 26,
   "metadata": {},
   "outputs": [],
   "source": [
    "for i in range(1,10):\n",
    "    img = None\n",
    "    try:\n",
    "        img =  Image.open(f'./scan/{i}.jpg')\n",
    "        a = img.crop(imgz1)        \n",
    "        a.save(f'./save/img'+str(str(datetime.utcnow().strftime('%Y%m%d%H%M%S%f')))+'.jpg') \n",
    "        b = img.crop(imgz2)\n",
    "        b.save(f'./save/img'+str(str(datetime.utcnow().strftime('%Y%m%d%H%M%S%f')))+'.jpg')\n",
    "    except FileNotFoundError:\n",
    "        pass "
   ]
  },
  {
   "cell_type": "code",
   "execution_count": 35,
   "metadata": {},
   "outputs": [],
   "source": [
    "for i in range(1,91):\n",
    "    img = None\n",
    "    try:\n",
    "        img =  Image.open(f'./scan/{i}.jpg')\n",
    "        height = img.height\n",
    "        a = height/2\n",
    "        width = img.width\n",
    "        x = (0,0,width,a)\n",
    "        y = (0,a,width,height)\n",
    "        a = img.crop(x)        \n",
    "        a.save(f'./save/img'+str(str(datetime.utcnow().strftime('%Y%m%d%H%M%S%f')))+'.jpg') \n",
    "        b = img.crop(y)\n",
    "        b.save(f'./save/img'+str(str(datetime.utcnow().strftime('%Y%m%d%H%M%S%f')))+'.jpg')\n",
    "\n",
    "    except FileNotFoundError:\n",
    "        pass "
   ]
  },
  {
   "cell_type": "code",
   "execution_count": null,
   "metadata": {},
   "outputs": [],
   "source": []
  }
 ],
 "metadata": {
  "kernelspec": {
   "display_name": "Python 3",
   "language": "python",
   "name": "python3"
  },
  "language_info": {
   "codemirror_mode": {
    "name": "ipython",
    "version": 3
   },
   "file_extension": ".py",
   "mimetype": "text/x-python",
   "name": "python",
   "nbconvert_exporter": "python",
   "pygments_lexer": "ipython3",
   "version": "3.8.2"
  }
 },
 "nbformat": 4,
 "nbformat_minor": 2
}
