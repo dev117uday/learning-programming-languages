{
 "cells": [
  {
   "cell_type": "code",
   "execution_count": null,
   "metadata": {},
   "outputs": [],
   "source": [
    "from PIL import Image\n",
    "import PIL.ImageOps    \n",
    "\n",
    "image = Image.open('picture7.png')\n",
    "if image.mode == 'RGBA':\n",
    "    r,g,b,a = image.split()\n",
    "    rgb_image = Image.merge('RGB', (r,g,b))\n",
    "\n",
    "    inverted_image = PIL.ImageOps.invert(rgb_image)\n",
    "\n",
    "    r2,g2,b2 = inverted_image.split()\n",
    "\n",
    "    final_transparent_image = Image.merge('RGBA', (r2,g2,b2,a))\n",
    "\n",
    "    final_transparent_image.save('pic7.png')\n",
    "\n",
    "else:\n",
    "    inverted_image = PIL.ImageOps.invert(image)\n",
    "    inverted_image.save('pic7.png')"
   ]
  }
 ],
 "metadata": {
  "kernelspec": {
   "display_name": "Python 3",
   "language": "python",
   "name": "python3"
  },
  "language_info": {
   "codemirror_mode": {
    "name": "ipython",
    "version": 3
   },
   "file_extension": ".py",
   "mimetype": "text/x-python",
   "name": "python",
   "nbconvert_exporter": "python",
   "pygments_lexer": "ipython3",
   "version": "3.7.4"
  }
 },
 "nbformat": 4,
 "nbformat_minor": 2
}
