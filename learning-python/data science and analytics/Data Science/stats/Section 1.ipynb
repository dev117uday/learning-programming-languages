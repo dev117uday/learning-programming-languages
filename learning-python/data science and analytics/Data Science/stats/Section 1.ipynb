{
 "cells": [
  {
   "cell_type": "markdown",
   "metadata": {},
   "source": [
    "# Notebook for section 1 of data analytics from the book Kreyszig's Advanced Engineering Mathematics"
   ]
  },
  {
   "cell_type": "code",
   "execution_count": 16,
   "metadata": {},
   "outputs": [],
   "source": [
    "#import the numpy and matlibplot and scipy\n",
    "import numpy as np\n",
    "from matplotlib import pyplot as plt \n",
    "from scipy import stats\n",
    "\n",
    "# creating a numpy array for the data\n",
    "carbon_content = np.array([86,87,86,81,77,85,87,86,85,87,82,84,83,79,82,86,88,84,87,86,88,84,83,83])\n",
    "# sorting the data\n",
    "carbon_content = np.sort(carbon_content)"
   ]
  },
  {
   "cell_type": "code",
   "execution_count": 20,
   "metadata": {},
   "outputs": [
    {
     "name": "stdout",
     "output_type": "stream",
     "text": [
      "Mean : 84.42\n",
      "Standard Variance : 2.74\n",
      "Variance : 7.49\n",
      "Lower limit : 77\n",
      "Upper limit : 88\n",
      "Median : 85.0\n",
      "Mode : ModeResult(mode=array([86]), count=array([5]))\n"
     ]
    }
   ],
   "source": [
    "# mean of the carbon content rounded to 2 digits\n",
    "mean = round(np.mean(carbon_content),2)\n",
    "# standard variance of the carbon content rounded to 2 digits\n",
    "std_deviation = round(np.std(carbon_content),2)\n",
    "# variance of the carbon content rounded to 2 digits\n",
    "variance = round(np.var(carbon_content),2)\n",
    "\n",
    "lower_limit = np.amin(carbon_content)\n",
    "upper_limit = np.amax(carbon_content)\n",
    "median = np.median(carbon_content)\n",
    "mode = stats.mode(carbon_content) \n",
    "\n",
    "\n",
    "#printing the result\n",
    "print(\"Mean : \" + str(mean))\n",
    "print(\"Standard Deviation : \" + str(std_deviation))\n",
    "print(\"Variance : \" + str(variance))\n",
    "print(\"Lower limit : \" + str(lower_limit))\n",
    "print(\"Upper limit : \" + str(upper_limit))\n",
    "print(\"Median : \" +str(median))\n",
    "print(\"Mode : \" + str(mode))\n"
   ]
  },
  {
   "cell_type": "code",
   "execution_count": 18,
   "metadata": {},
   "outputs": [
    {
     "data": {
      "text/plain": [
       "Text(0, 0.5, 'frequency')"
      ]
     },
     "execution_count": 18,
     "metadata": {},
     "output_type": "execute_result"
    },
    {
     "data": {
      "image/png": "[encoded data removed]",
      "text/plain": [
       "<Figure size 432x288 with 1 Axes>"
      ]
     },
     "metadata": {
      "needs_background": "light"
     },
     "output_type": "display_data"
    }
   ],
   "source": [
    "# plotting the histogram of carbon content\n",
    "plt.hist(carbon_content) \n",
    "# title of graph\n",
    "plt.title(\"histogram\")\n",
    "#labeling x and y axis\n",
    "plt.xlabel('carbon content')\n",
    "plt.ylabel('frequency')"
   ]
  },
  {
   "cell_type": "code",
   "execution_count": 19,
   "metadata": {},
   "outputs": [
    {
     "data": {
      "image/png": "[encoded data removed]",
      "text/plain": [
       "<Figure size 432x288 with 1 Axes>"
      ]
     },
     "metadata": {
      "needs_background": "light"
     },
     "output_type": "display_data"
    }
   ],
   "source": [
    "#plotting the boxplot of data\n",
    "#what does none do : i dont know, without this the code gives error\n",
    "none,plotx = plt.subplots()\n",
    "#title of boxplot\n",
    "plotx.set_title('Boxplot')\n",
    "# plotting the boxplot\n",
    "plotx.boxplot(carbon_content)\n",
    "plt.show()"
   ]
  }
 ],
 "metadata": {
  "kernelspec": {
   "display_name": "Python 3",
   "language": "python",
   "name": "python3"
  },
  "language_info": {
   "codemirror_mode": {
    "name": "ipython",
    "version": 3
   },
   "file_extension": ".py",
   "mimetype": "text/x-python",
   "name": "python",
   "nbconvert_exporter": "python",
   "pygments_lexer": "ipython3",
   "version": "3.7.4"
  }
 },
 "nbformat": 4,
 "nbformat_minor": 4
}
