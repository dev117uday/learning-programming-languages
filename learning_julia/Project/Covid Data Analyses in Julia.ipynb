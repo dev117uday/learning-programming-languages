{
 "cells": [
  {
   "cell_type": "code",
   "execution_count": 7,
   "metadata": {},
   "outputs": [
    {
     "data": {
      "text/plain": [
       "10-element Array{Any,1}:\n",
       " \"iso_code\"\n",
       " \"AFG\"     \n",
       " \"AFG\"     \n",
       " \"AFG\"     \n",
       " \"AFG\"     \n",
       " \"AFG\"     \n",
       " \"AFG\"     \n",
       " \"AFG\"     \n",
       " \"AFG\"     \n",
       " \"AFG\"     "
      ]
     },
     "execution_count": 7,
     "metadata": {},
     "output_type": "execute_result"
    }
   ],
   "source": [
    "using DelimitedFiles\n",
    "covidData = DelimitedFiles.readdlm(\"covid.csv\",',')"
   ]
  },
  {
   "cell_type": "code",
   "execution_count": 18,
   "metadata": {},
   "outputs": [
    {
     "data": {
      "text/plain": [
       "22033-element Array{Any,1}:\n",
       " \"date\"      \n",
       " \"2019-12-31\"\n",
       " \"2020-01-01\"\n",
       " \"2020-01-02\"\n",
       " \"2020-01-03\"\n",
       " \"2020-01-04\"\n",
       " \"2020-01-05\"\n",
       " \"2020-01-06\"\n",
       " \"2020-01-07\"\n",
       " \"2020-01-08\"\n",
       " \"2020-01-09\"\n",
       " \"2020-01-10\"\n",
       " \"2020-01-11\"\n",
       " ⋮           \n",
       " \"2020-02-21\"\n",
       " \"2020-02-22\"\n",
       " \"2020-02-23\"\n",
       " \"2020-02-24\"\n",
       " \"2020-02-25\"\n",
       " \"2020-02-26\"\n",
       " \"2020-02-27\"\n",
       " \"2020-02-28\"\n",
       " \"2020-02-29\"\n",
       " \"2020-03-01\"\n",
       " \"2020-03-02\"\n",
       " \"2020-03-10\""
      ]
     },
     "execution_count": 18,
     "metadata": {},
     "output_type": "execute_result"
    }
   ],
   "source": [
    "covidData[:,4]"
   ]
  },
  {
   "cell_type": "code",
   "execution_count": null,
   "metadata": {},
   "outputs": [],
   "source": []
  }
 ],
 "metadata": {
  "kernelspec": {
   "display_name": "Julia 1.0.4",
   "language": "julia",
   "name": "julia-1.0"
  },
  "language_info": {
   "file_extension": ".jl",
   "mimetype": "application/julia",
   "name": "julia",
   "version": "1.0.4"
  }
 },
 "nbformat": 4,
 "nbformat_minor": 4
}
