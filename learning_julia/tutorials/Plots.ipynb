{
 "cells": [
  {
   "cell_type": "code",
   "execution_count": 14,
   "metadata": {},
   "outputs": [],
   "source": [
    "using Plots"
   ]
  },
  {
   "cell_type": "code",
   "execution_count": 15,
   "metadata": {},
   "outputs": [
    {
     "data": {
      "text/plain": [
       "-3.0:0.01:3.0"
      ]
     },
     "execution_count": 15,
     "metadata": {},
     "output_type": "execute_result"
    }
   ],
   "source": [
    "x = -3:0.01:3"
   ]
  },
  {
   "cell_type": "code",
   "execution_count": 16,
   "metadata": {},
   "outputs": [
    {
     "data": {
      "text/plain": [
       "squarex (generic function with 1 method)"
      ]
     },
     "execution_count": 16,
     "metadata": {},
     "output_type": "execute_result"
    }
   ],
   "source": [
    "function squarex(x)\n",
    "    x = x^2\n",
    "end"
   ]
  },
  {
   "cell_type": "code",
   "execution_count": 17,
   "metadata": {},
   "outputs": [
    {
     "data": {
      "text/plain": [
       "601-element Array{Float64,1}:\n",
       " 9.0              \n",
       " 8.940100000000001\n",
       " 8.8804           \n",
       " 8.820900000000002\n",
       " 8.7616           \n",
       " 8.7025           \n",
       " 8.6436           \n",
       " 8.584900000000001\n",
       " 8.526399999999999\n",
       " 8.468100000000002\n",
       " 8.41             \n",
       " 8.3521           \n",
       " 8.2944           \n",
       " ⋮                \n",
       " 8.3521           \n",
       " 8.41             \n",
       " 8.468100000000002\n",
       " 8.526399999999999\n",
       " 8.584900000000001\n",
       " 8.6436           \n",
       " 8.7025           \n",
       " 8.7616           \n",
       " 8.820900000000002\n",
       " 8.8804           \n",
       " 8.940100000000001\n",
       " 9.0              "
      ]
     },
     "execution_count": 17,
     "metadata": {},
     "output_type": "execute_result"
    }
   ],
   "source": [
    "y = squarex.(x)"
   ]
  },
  {
   "cell_type": "code",
   "execution_count": 18,
   "metadata": {},
   "outputs": [
    {
     "data": {
      "text/plain": [
       "Plots.GRBackend()"
      ]
     },
     "execution_count": 18,
     "metadata": {},
     "output_type": "execute_result"
    }
   ],
   "source": [
    "gr()"
   ]
  },
  {
   "cell_type": "code",
   "execution_count": 19,
   "metadata": {},
   "outputs": [
    {
     "ename": "ErrorException",
     "evalue": "error compiling _plot!: error compiling _display: could not load library \"libGR.so\"\nlibGR.so: cannot open shared object file: No such file or directory",
     "output_type": "error",
     "traceback": [
      "error compiling _plot!: error compiling _display: could not load library \"libGR.so\"\nlibGR.so: cannot open shared object file: No such file or directory",
      "",
      "Stacktrace:",
      " [1] #plot#124(::Base.Iterators.Pairs{Symbol,String,Tuple{Symbol},NamedTuple{(:label,),Tuple{String}}}, ::Function, ::StepRangeLen{Float64,Base.TwicePrecision{Float64},Base.TwicePrecision{Float64}}, ::Vararg{Any,N} where N) at /home/uday/.julia/packages/Plots/JKY3H/src/plot.jl:57",
      " [2] (::getfield(RecipesBase, Symbol(\"#kw##plot\")))(::NamedTuple{(:label,),Tuple{String}}, ::typeof(plot), ::StepRangeLen{Float64,Base.TwicePrecision{Float64},Base.TwicePrecision{Float64}}, ::Array{Float64,1}) at ./none:0",
      " [3] top-level scope at In[19]:1"
     ]
    }
   ],
   "source": [
    "# plot(x,y,label=\"line\")\n",
    "# scatter!(x,y,label=\"points\")\n",
    "# Doesnt work in "
   ]
  },
  {
   "cell_type": "code",
   "execution_count": null,
   "metadata": {},
   "outputs": [],
   "source": []
  }
 ],
 "metadata": {
  "kernelspec": {
   "display_name": "Julia 1.0.4",
   "language": "julia",
   "name": "julia-1.0"
  },
  "language_info": {
   "file_extension": ".jl",
   "mimetype": "application/julia",
   "name": "julia",
   "version": "1.0.4"
  }
 },
 "nbformat": 4,
 "nbformat_minor": 4
}
