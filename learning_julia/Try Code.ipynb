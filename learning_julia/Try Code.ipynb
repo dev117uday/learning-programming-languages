{
 "cells": [
  {
   "cell_type": "code",
   "execution_count": 1,
   "metadata": {},
   "outputs": [
    {
     "name": "stdout",
     "output_type": "stream",
     "text": [
      "Hello! My word! Hello! My word! \n"
     ]
    }
   ],
   "source": [
    "println((\"Hello!\" * \" My word! \")^2)"
   ]
  },
  {
   "cell_type": "code",
   "execution_count": 2,
   "metadata": {},
   "outputs": [
    {
     "data": {
      "text/plain": [
       "84.0"
      ]
     },
     "execution_count": 2,
     "metadata": {},
     "output_type": "execute_result"
    }
   ],
   "source": [
    "5040 / 60"
   ]
  },
  {
   "cell_type": "code",
   "execution_count": 3,
   "metadata": {},
   "outputs": [
    {
     "data": {
      "text/plain": [
       "8.252345933335e39"
      ]
     },
     "execution_count": 3,
     "metadata": {},
     "output_type": "execute_result"
    }
   ],
   "source": [
    "(((((2^2)^1)^1.3)^1.5)^1.7)^20"
   ]
  },
  {
   "cell_type": "code",
   "execution_count": 4,
   "metadata": {},
   "outputs": [
    {
     "data": {
      "text/plain": [
       "4"
      ]
     },
     "execution_count": 4,
     "metadata": {},
     "output_type": "execute_result"
    }
   ],
   "source": [
    "x = 1\n",
    "3*x^2-2*x+3"
   ]
  },
  {
   "cell_type": "code",
   "execution_count": 5,
   "metadata": {},
   "outputs": [
    {
     "data": {
      "text/plain": [
       "true"
      ]
     },
     "execution_count": 5,
     "metadata": {},
     "output_type": "execute_result"
    }
   ],
   "source": [
    "x = 4\n",
    "(3.0 < x) && (x < 5.0)"
   ]
  },
  {
   "cell_type": "code",
   "execution_count": 6,
   "metadata": {},
   "outputs": [
    {
     "data": {
      "text/plain": [
       "false"
      ]
     },
     "execution_count": 6,
     "metadata": {},
     "output_type": "execute_result"
    }
   ],
   "source": [
    "(true || false) && false"
   ]
  },
  {
   "cell_type": "code",
   "execution_count": 7,
   "metadata": {},
   "outputs": [
    {
     "data": {
      "text/plain": [
       "true"
      ]
     },
     "execution_count": 7,
     "metadata": {},
     "output_type": "execute_result"
    }
   ],
   "source": [
    "3 & 5 > 0 "
   ]
  },
  {
   "cell_type": "code",
   "execution_count": 8,
   "metadata": {},
   "outputs": [
    {
     "data": {
      "text/plain": [
       "false"
      ]
     },
     "execution_count": 8,
     "metadata": {},
     "output_type": "execute_result"
    }
   ],
   "source": [
    "8 & 5 > 0"
   ]
  },
  {
   "cell_type": "code",
   "execution_count": 9,
   "metadata": {},
   "outputs": [
    {
     "data": {
      "text/plain": [
       "false"
      ]
     },
     "execution_count": 9,
     "metadata": {},
     "output_type": "execute_result"
    }
   ],
   "source": [
    "'a'===\"a\" "
   ]
  },
  {
   "cell_type": "code",
   "execution_count": 10,
   "metadata": {},
   "outputs": [
    {
     "data": {
      "text/plain": [
       "11×12 Array{Int64,2}:\n",
       " -2175209547892778416  -2175206524235801328  …  -2175174363520681392\n",
       " -2175209273014871408  -2175206249357894320     -2175174088642774384\n",
       " -2175208998136964400  -2175205974479987312     -2175173813764867376\n",
       " -2175208723259057392  -2175205699602080304     -2175173538886960368\n",
       " -2175208448381150384  -2175205424724173296     -2175173264009053360\n",
       " -2175208173503243376  -2175205149846266288  …  -2175172989131146352\n",
       " -2175207898625336368  -2175204874968359280     -2175172714253239344\n",
       " -2175207623747429360  -2175204600090452272     -2175172439375332336\n",
       " -2175207348869522352  -2175204325212545264     -2175172164497425328\n",
       " -2175207073991615344  -2175204050334638256     -2175171889619518320\n",
       " -2175206799113708336  -2175203775456731248  …  -2175171614741611312"
      ]
     },
     "execution_count": 10,
     "metadata": {},
     "output_type": "execute_result"
    }
   ],
   "source": [
    "x = Array{Int64}(undef,11, 12) "
   ]
  },
  {
   "cell_type": "code",
   "execution_count": 11,
   "metadata": {},
   "outputs": [
    {
     "data": {
      "text/plain": [
       "Array{Int64,2}"
      ]
     },
     "execution_count": 11,
     "metadata": {},
     "output_type": "execute_result"
    }
   ],
   "source": [
    "typeof(x)"
   ]
  },
  {
   "cell_type": "code",
   "execution_count": 12,
   "metadata": {},
   "outputs": [
    {
     "data": {
      "text/plain": [
       "false"
      ]
     },
     "execution_count": 12,
     "metadata": {},
     "output_type": "execute_result"
    }
   ],
   "source": [
    "y = -2166339512711537264\n",
    "y == x[2,1]"
   ]
  },
  {
   "cell_type": "code",
   "execution_count": 13,
   "metadata": {},
   "outputs": [
    {
     "data": {
      "text/plain": [
       "-2175209273014871408"
      ]
     },
     "execution_count": 13,
     "metadata": {},
     "output_type": "execute_result"
    }
   ],
   "source": [
    "x[2,1]"
   ]
  },
  {
   "cell_type": "code",
   "execution_count": 14,
   "metadata": {},
   "outputs": [
    {
     "name": "stdout",
     "output_type": "stream",
     "text": [
      "search: \u001b[0m\u001b[1m\\\u001b[22m\n",
      "\n"
     ]
    },
    {
     "data": {
      "text/latex": [
       "\\begin{verbatim}\n",
       "\\(x, y)\n",
       "\\end{verbatim}\n",
       "Left division operator: multiplication of \\texttt{y} by the inverse of \\texttt{x} on the left. Gives floating-point results for integer arguments.\n",
       "\n",
       "\\section{Examples}\n",
       "\\begin{verbatim}\n",
       "julia> 3 \\ 6\n",
       "2.0\n",
       "\n",
       "julia> inv(3) * 6\n",
       "2.0\n",
       "\n",
       "julia> A = [4 3; 2 1]; x = [5, 6];\n",
       "\n",
       "julia> A \\ x\n",
       "2-element Array{Float64,1}:\n",
       "  6.5\n",
       " -7.0\n",
       "\n",
       "julia> inv(A) * x\n",
       "2-element Array{Float64,1}:\n",
       "  6.5\n",
       " -7.0\n",
       "\\end{verbatim}\n",
       "\\rule{\\textwidth}{1pt}\n",
       "\\begin{verbatim}\n",
       "\\(A, B)\n",
       "\\end{verbatim}\n",
       "Matrix division using a polyalgorithm. For input matrices \\texttt{A} and \\texttt{B}, the result \\texttt{X} is such that \\texttt{A*X == B} when \\texttt{A} is square. The solver that is used depends upon the structure of \\texttt{A}.  If \\texttt{A} is upper or lower triangular (or diagonal), no factorization of \\texttt{A} is required and the system is solved with either forward or backward substitution. For non-triangular square matrices, an LU factorization is used.\n",
       "\n",
       "For rectangular \\texttt{A} the result is the minimum-norm least squares solution computed by a pivoted QR factorization of \\texttt{A} and a rank estimate of \\texttt{A} based on the R factor.\n",
       "\n",
       "When \\texttt{A} is sparse, a similar polyalgorithm is used. For indefinite matrices, the \\texttt{LDLt} factorization does not use pivoting during the numerical factorization and therefore the procedure can fail even for invertible matrices.\n",
       "\n",
       "\\section{Examples}\n",
       "\\begin{verbatim}\n",
       "julia> A = [1 0; 1 -2]; B = [32; -4];\n",
       "\n",
       "julia> X = A \\ B\n",
       "2-element Array{Float64,1}:\n",
       " 32.0\n",
       " 18.0\n",
       "\n",
       "julia> A * X == B\n",
       "true\n",
       "\\end{verbatim}\n",
       "\\rule{\\textwidth}{1pt}\n",
       "\\begin{verbatim}\n",
       "(\\)(F::QRSparse, B::StridedVecOrMat)\n",
       "\\end{verbatim}\n",
       "Solve the least squares problem $\\min\\|Ax - b\\|^2$ or the linear system of equations $Ax=b$ when \\texttt{F} is the sparse QR factorization of $A$. A basic solution is returned when the problem is underdetermined.\n",
       "\n",
       "\\section{Examples}\n",
       "\\begin{verbatim}\n",
       "julia> A = sparse([1,2,4], [1,1,1], [1.0,1.0,1.0], 4, 2)\n",
       "4×2 SparseMatrixCSC{Float64,Int64} with 3 stored entries:\n",
       "  [1, 1]  =  1.0\n",
       "  [2, 1]  =  1.0\n",
       "  [4, 1]  =  1.0\n",
       "\n",
       "julia> qr(A)\\fill(1.0, 4)\n",
       "2-element Array{Float64,1}:\n",
       " 1.0\n",
       " 0.0\n",
       "\\end{verbatim}\n"
      ],
      "text/markdown": [
       "```\n",
       "\\(x, y)\n",
       "```\n",
       "\n",
       "Left division operator: multiplication of `y` by the inverse of `x` on the left. Gives floating-point results for integer arguments.\n",
       "\n",
       "# Examples\n",
       "\n",
       "```jldoctest\n",
       "julia> 3 \\ 6\n",
       "2.0\n",
       "\n",
       "julia> inv(3) * 6\n",
       "2.0\n",
       "\n",
       "julia> A = [4 3; 2 1]; x = [5, 6];\n",
       "\n",
       "julia> A \\ x\n",
       "2-element Array{Float64,1}:\n",
       "  6.5\n",
       " -7.0\n",
       "\n",
       "julia> inv(A) * x\n",
       "2-element Array{Float64,1}:\n",
       "  6.5\n",
       " -7.0\n",
       "```\n",
       "\n",
       "---\n",
       "\n",
       "```\n",
       "\\(A, B)\n",
       "```\n",
       "\n",
       "Matrix division using a polyalgorithm. For input matrices `A` and `B`, the result `X` is such that `A*X == B` when `A` is square. The solver that is used depends upon the structure of `A`.  If `A` is upper or lower triangular (or diagonal), no factorization of `A` is required and the system is solved with either forward or backward substitution. For non-triangular square matrices, an LU factorization is used.\n",
       "\n",
       "For rectangular `A` the result is the minimum-norm least squares solution computed by a pivoted QR factorization of `A` and a rank estimate of `A` based on the R factor.\n",
       "\n",
       "When `A` is sparse, a similar polyalgorithm is used. For indefinite matrices, the `LDLt` factorization does not use pivoting during the numerical factorization and therefore the procedure can fail even for invertible matrices.\n",
       "\n",
       "# Examples\n",
       "\n",
       "```jldoctest\n",
       "julia> A = [1 0; 1 -2]; B = [32; -4];\n",
       "\n",
       "julia> X = A \\ B\n",
       "2-element Array{Float64,1}:\n",
       " 32.0\n",
       " 18.0\n",
       "\n",
       "julia> A * X == B\n",
       "true\n",
       "```\n",
       "\n",
       "---\n",
       "\n",
       "```\n",
       "(\\)(F::QRSparse, B::StridedVecOrMat)\n",
       "```\n",
       "\n",
       "Solve the least squares problem $\\min\\|Ax - b\\|^2$ or the linear system of equations $Ax=b$ when `F` is the sparse QR factorization of $A$. A basic solution is returned when the problem is underdetermined.\n",
       "\n",
       "# Examples\n",
       "\n",
       "```jldoctest\n",
       "julia> A = sparse([1,2,4], [1,1,1], [1.0,1.0,1.0], 4, 2)\n",
       "4×2 SparseMatrixCSC{Float64,Int64} with 3 stored entries:\n",
       "  [1, 1]  =  1.0\n",
       "  [2, 1]  =  1.0\n",
       "  [4, 1]  =  1.0\n",
       "\n",
       "julia> qr(A)\\fill(1.0, 4)\n",
       "2-element Array{Float64,1}:\n",
       " 1.0\n",
       " 0.0\n",
       "```\n"
      ],
      "text/plain": [
       "\u001b[36m  \\(x, y)\u001b[39m\n",
       "\n",
       "  Left division operator: multiplication of \u001b[36my\u001b[39m by the inverse of \u001b[36mx\u001b[39m on the left.\n",
       "  Gives floating-point results for integer arguments.\n",
       "\n",
       "\u001b[1m  Examples\u001b[22m\n",
       "\u001b[1m  ≡≡≡≡≡≡≡≡≡≡\u001b[22m\n",
       "\n",
       "\u001b[36m  julia> 3 \\ 6\u001b[39m\n",
       "\u001b[36m  2.0\u001b[39m\n",
       "\u001b[36m  \u001b[39m\n",
       "\u001b[36m  julia> inv(3) * 6\u001b[39m\n",
       "\u001b[36m  2.0\u001b[39m\n",
       "\u001b[36m  \u001b[39m\n",
       "\u001b[36m  julia> A = [4 3; 2 1]; x = [5, 6];\u001b[39m\n",
       "\u001b[36m  \u001b[39m\n",
       "\u001b[36m  julia> A \\ x\u001b[39m\n",
       "\u001b[36m  2-element Array{Float64,1}:\u001b[39m\n",
       "\u001b[36m    6.5\u001b[39m\n",
       "\u001b[36m   -7.0\u001b[39m\n",
       "\u001b[36m  \u001b[39m\n",
       "\u001b[36m  julia> inv(A) * x\u001b[39m\n",
       "\u001b[36m  2-element Array{Float64,1}:\u001b[39m\n",
       "\u001b[36m    6.5\u001b[39m\n",
       "\u001b[36m   -7.0\u001b[39m\n",
       "\n",
       "  ────────────────────────────────────────────────────────────────────────────\n",
       "\n",
       "\u001b[36m  \\(A, B)\u001b[39m\n",
       "\n",
       "  Matrix division using a polyalgorithm. For input matrices \u001b[36mA\u001b[39m and \u001b[36mB\u001b[39m, the\n",
       "  result \u001b[36mX\u001b[39m is such that \u001b[36mA*X == B\u001b[39m when \u001b[36mA\u001b[39m is square. The solver that is used\n",
       "  depends upon the structure of \u001b[36mA\u001b[39m. If \u001b[36mA\u001b[39m is upper or lower triangular (or\n",
       "  diagonal), no factorization of \u001b[36mA\u001b[39m is required and the system is solved with\n",
       "  either forward or backward substitution. For non-triangular square matrices,\n",
       "  an LU factorization is used.\n",
       "\n",
       "  For rectangular \u001b[36mA\u001b[39m the result is the minimum-norm least squares solution\n",
       "  computed by a pivoted QR factorization of \u001b[36mA\u001b[39m and a rank estimate of \u001b[36mA\u001b[39m based\n",
       "  on the R factor.\n",
       "\n",
       "  When \u001b[36mA\u001b[39m is sparse, a similar polyalgorithm is used. For indefinite matrices,\n",
       "  the \u001b[36mLDLt\u001b[39m factorization does not use pivoting during the numerical\n",
       "  factorization and therefore the procedure can fail even for invertible\n",
       "  matrices.\n",
       "\n",
       "\u001b[1m  Examples\u001b[22m\n",
       "\u001b[1m  ≡≡≡≡≡≡≡≡≡≡\u001b[22m\n",
       "\n",
       "\u001b[36m  julia> A = [1 0; 1 -2]; B = [32; -4];\u001b[39m\n",
       "\u001b[36m  \u001b[39m\n",
       "\u001b[36m  julia> X = A \\ B\u001b[39m\n",
       "\u001b[36m  2-element Array{Float64,1}:\u001b[39m\n",
       "\u001b[36m   32.0\u001b[39m\n",
       "\u001b[36m   18.0\u001b[39m\n",
       "\u001b[36m  \u001b[39m\n",
       "\u001b[36m  julia> A * X == B\u001b[39m\n",
       "\u001b[36m  true\u001b[39m\n",
       "\n",
       "  ────────────────────────────────────────────────────────────────────────────\n",
       "\n",
       "\u001b[36m  (\\)(F::QRSparse, B::StridedVecOrMat)\u001b[39m\n",
       "\n",
       "  Solve the least squares problem \u001b[35m\\min\\|Ax - b\\|^2\u001b[39m or the linear system of\n",
       "  equations \u001b[35mAx=b\u001b[39m when \u001b[36mF\u001b[39m is the sparse QR factorization of \u001b[35mA\u001b[39m. A basic solution\n",
       "  is returned when the problem is underdetermined.\n",
       "\n",
       "\u001b[1m  Examples\u001b[22m\n",
       "\u001b[1m  ≡≡≡≡≡≡≡≡≡≡\u001b[22m\n",
       "\n",
       "\u001b[36m  julia> A = sparse([1,2,4], [1,1,1], [1.0,1.0,1.0], 4, 2)\u001b[39m\n",
       "\u001b[36m  4×2 SparseMatrixCSC{Float64,Int64} with 3 stored entries:\u001b[39m\n",
       "\u001b[36m    [1, 1]  =  1.0\u001b[39m\n",
       "\u001b[36m    [2, 1]  =  1.0\u001b[39m\n",
       "\u001b[36m    [4, 1]  =  1.0\u001b[39m\n",
       "\u001b[36m  \u001b[39m\n",
       "\u001b[36m  julia> qr(A)\\fill(1.0, 4)\u001b[39m\n",
       "\u001b[36m  2-element Array{Float64,1}:\u001b[39m\n",
       "\u001b[36m   1.0\u001b[39m\n",
       "\u001b[36m   0.0\u001b[39m"
      ]
     },
     "execution_count": 14,
     "metadata": {},
     "output_type": "execute_result"
    }
   ],
   "source": [
    "?\\"
   ]
  },
  {
   "cell_type": "code",
   "execution_count": 15,
   "metadata": {},
   "outputs": [
    {
     "data": {
      "text/plain": [
       "1"
      ]
     },
     "execution_count": 15,
     "metadata": {},
     "output_type": "execute_result"
    }
   ],
   "source": [
    "a,b = 1,2\n",
    "\n",
    "b = a\n",
    "\n",
    "a = b\n",
    "a"
   ]
  },
  {
   "cell_type": "code",
   "execution_count": 16,
   "metadata": {},
   "outputs": [
    {
     "name": "stdout",
     "output_type": "stream",
     "text": [
      "22\n"
     ]
    }
   ],
   "source": [
    "function test(input)\n",
    "  println(\"$input\"^2)\n",
    "end\n",
    "\n",
    "test(2)"
   ]
  },
  {
   "cell_type": "code",
   "execution_count": 17,
   "metadata": {},
   "outputs": [
    {
     "data": {
      "text/plain": [
       "f (generic function with 1 method)"
      ]
     },
     "execution_count": 17,
     "metadata": {},
     "output_type": "execute_result"
    }
   ],
   "source": [
    "function f(x)\n",
    "  return 2x\n",
    "  3x\n",
    "  println(\"Hello\")\n",
    "end"
   ]
  },
  {
   "cell_type": "code",
   "execution_count": 18,
   "metadata": {},
   "outputs": [
    {
     "data": {
      "text/plain": [
       "10"
      ]
     },
     "execution_count": 18,
     "metadata": {},
     "output_type": "execute_result"
    }
   ],
   "source": [
    "f(5)"
   ]
  },
  {
   "cell_type": "code",
   "execution_count": 19,
   "metadata": {},
   "outputs": [
    {
     "data": {
      "text/plain": [
       "(19, 3)"
      ]
     },
     "execution_count": 19,
     "metadata": {},
     "output_type": "execute_result"
    }
   ],
   "source": [
    "a, b = 2, 3           \n",
    "function f(x)  \n",
    "  b = 5 \n",
    "  a*x + b\n",
    "end\n",
    "f(7), b"
   ]
  },
  {
   "cell_type": "code",
   "execution_count": 20,
   "metadata": {},
   "outputs": [
    {
     "data": {
      "text/plain": [
       "false"
      ]
     },
     "execution_count": 20,
     "metadata": {},
     "output_type": "execute_result"
    }
   ],
   "source": [
    "1 + 3 < 5 && 2^2 === 4.0"
   ]
  },
  {
   "cell_type": "code",
   "execution_count": 21,
   "metadata": {},
   "outputs": [
    {
     "data": {
      "text/plain": [
       "true"
      ]
     },
     "execution_count": 21,
     "metadata": {},
     "output_type": "execute_result"
    }
   ],
   "source": [
    "x=6\n",
    "(x ≥ 5.0) && (x < 7.0)"
   ]
  },
  {
   "cell_type": "code",
   "execution_count": 22,
   "metadata": {},
   "outputs": [
    {
     "data": {
      "text/plain": [
       "true"
      ]
     },
     "execution_count": 22,
     "metadata": {},
     "output_type": "execute_result"
    }
   ],
   "source": [
    "true && false && false || true"
   ]
  },
  {
   "cell_type": "code",
   "execution_count": 23,
   "metadata": {},
   "outputs": [
    {
     "data": {
      "text/plain": [
       "2×3 Array{Float64,2}:\n",
       " -2.2373e164   -6.31913e209  -2.14978e164\n",
       " -6.32124e209  -6.31973e209  -2.52888e210"
      ]
     },
     "execution_count": 23,
     "metadata": {},
     "output_type": "execute_result"
    }
   ],
   "source": [
    "matrix = Array{Float64,2}(undef, a, b)"
   ]
  },
  {
   "cell_type": "code",
   "execution_count": 24,
   "metadata": {},
   "outputs": [
    {
     "data": {
      "text/plain": [
       "48"
      ]
     },
     "execution_count": 24,
     "metadata": {},
     "output_type": "execute_result"
    }
   ],
   "source": [
    "(2^2)^3 - 2^4"
   ]
  },
  {
   "cell_type": "code",
   "execution_count": 25,
   "metadata": {},
   "outputs": [
    {
     "data": {
      "text/plain": [
       "240"
      ]
     },
     "execution_count": 25,
     "metadata": {},
     "output_type": "execute_result"
    }
   ],
   "source": [
    "2^2^3 - 2^4"
   ]
  },
  {
   "cell_type": "code",
   "execution_count": 26,
   "metadata": {},
   "outputs": [
    {
     "name": "stdout",
     "output_type": "stream",
     "text": [
      "36\n"
     ]
    }
   ],
   "source": [
    "println(\"$(6*6)\")"
   ]
  },
  {
   "cell_type": "code",
   "execution_count": 27,
   "metadata": {},
   "outputs": [
    {
     "data": {
      "text/plain": [
       "36"
      ]
     },
     "execution_count": 27,
     "metadata": {},
     "output_type": "execute_result"
    }
   ],
   "source": [
    "3^2^1^5 + 3^3"
   ]
  },
  {
   "cell_type": "code",
   "execution_count": 28,
   "metadata": {},
   "outputs": [
    {
     "data": {
      "text/plain": [
       "0"
      ]
     },
     "execution_count": 28,
     "metadata": {},
     "output_type": "execute_result"
    }
   ],
   "source": [
    "(5-7)*2 +4"
   ]
  },
  {
   "cell_type": "code",
   "execution_count": 29,
   "metadata": {},
   "outputs": [
    {
     "data": {
      "text/plain": [
       "false"
      ]
     },
     "execution_count": 29,
     "metadata": {},
     "output_type": "execute_result"
    }
   ],
   "source": [
    "1 + 3 < 5 && 2^2 === 4.0"
   ]
  },
  {
   "cell_type": "code",
   "execution_count": 30,
   "metadata": {},
   "outputs": [
    {
     "data": {
      "text/plain": [
       "false"
      ]
     },
     "execution_count": 30,
     "metadata": {},
     "output_type": "execute_result"
    }
   ],
   "source": [
    "x=4\n",
    "x > 0 && x <= 3"
   ]
  },
  {
   "cell_type": "code",
   "execution_count": 31,
   "metadata": {},
   "outputs": [
    {
     "data": {
      "text/plain": [
       "true"
      ]
     },
     "execution_count": 31,
     "metadata": {},
     "output_type": "execute_result"
    }
   ],
   "source": [
    "true && false && false || true"
   ]
  },
  {
   "cell_type": "code",
   "execution_count": 32,
   "metadata": {},
   "outputs": [
    {
     "data": {
      "text/plain": [
       "true"
      ]
     },
     "execution_count": 32,
     "metadata": {},
     "output_type": "execute_result"
    }
   ],
   "source": [
    "true && ((false&&false)||true)"
   ]
  },
  {
   "cell_type": "code",
   "execution_count": 33,
   "metadata": {},
   "outputs": [
    {
     "data": {
      "text/plain": [
       "false"
      ]
     },
     "execution_count": 33,
     "metadata": {},
     "output_type": "execute_result"
    }
   ],
   "source": [
    "(true&&false)&&(false||true)"
   ]
  },
  {
   "cell_type": "code",
   "execution_count": 34,
   "metadata": {},
   "outputs": [
    {
     "data": {
      "text/plain": [
       "true"
      ]
     },
     "execution_count": 34,
     "metadata": {},
     "output_type": "execute_result"
    }
   ],
   "source": [
    "((true&&false)&&false)||true"
   ]
  },
  {
   "cell_type": "code",
   "execution_count": 35,
   "metadata": {},
   "outputs": [
    {
     "data": {
      "text/plain": [
       "false"
      ]
     },
     "execution_count": 35,
     "metadata": {},
     "output_type": "execute_result"
    }
   ],
   "source": [
    "true&&(false&&(false||true))"
   ]
  },
  {
   "cell_type": "code",
   "execution_count": 36,
   "metadata": {},
   "outputs": [
    {
     "data": {
      "text/plain": [
       "2×3 Array{Float64,2}:\n",
       " 0.0  0.0  0.0\n",
       " 0.0  0.0  0.0"
      ]
     },
     "execution_count": 36,
     "metadata": {},
     "output_type": "execute_result"
    }
   ],
   "source": [
    "matrix = Array{Float64,2}(undef, a, b)"
   ]
  },
  {
   "cell_type": "code",
   "execution_count": 37,
   "metadata": {},
   "outputs": [
    {
     "data": {
      "text/plain": [
       "15×2 Array{Float64,2}:\n",
       " 1.68005    -1.6417  \n",
       " 0.501309   -0.977698\n",
       " 1.52801     0.527711\n",
       " 1.70012     1.71152 \n",
       " 1.99249     1.891   \n",
       " 2.70608    -0.463428\n",
       " 2.99493    -0.443567\n",
       " 3.49185    -1.27518 \n",
       " 3.50119    -0.6905  \n",
       " 4.45992    -5.51613 \n",
       " 4.93697    -6.0017  \n",
       " 5.02329    -8.36417 \n",
       " 5.04234    -7.92448 \n",
       " 5.50739   -10.7748  \n",
       " 5.56867   -10.9172  "
      ]
     },
     "execution_count": 37,
     "metadata": {},
     "output_type": "execute_result"
    }
   ],
   "source": [
    "data = [1.6800483  -1.641695388; \n",
    "        0.501309281 -0.977697538; \n",
    "        1.528012113 0.52771122;\n",
    "        1.70012253 1.711524991; \n",
    "        1.992493625 1.891000015;\n",
    "        2.706075824 -0.463427794;\n",
    "        2.994931927 -0.443566619;\n",
    "        3.491852811 -1.275179133;\n",
    "        3.501191722 -0.690499597;\n",
    "        4.459924502 -5.516130799;\n",
    "        4.936965851 -6.001703074;\n",
    "        5.023289852 -8.36416901;\n",
    "        5.04233698 -7.924477517;\n",
    "        5.50739285 -10.77482371;\n",
    "        5.568665171 -10.9171878]"
   ]
  },
  {
   "cell_type": "code",
   "execution_count": 38,
   "metadata": {},
   "outputs": [
    {
     "data": {
      "text/plain": [
       "15-element Array{Float64,1}:\n",
       " 1.6800483  \n",
       " 0.501309281\n",
       " 1.528012113\n",
       " 1.70012253 \n",
       " 1.992493625\n",
       " 2.706075824\n",
       " 2.994931927\n",
       " 3.491852811\n",
       " 3.501191722\n",
       " 4.459924502\n",
       " 4.936965851\n",
       " 5.023289852\n",
       " 5.04233698 \n",
       " 5.50739285 \n",
       " 5.568665171"
      ]
     },
     "execution_count": 38,
     "metadata": {},
     "output_type": "execute_result"
    }
   ],
   "source": [
    "data[:,1]"
   ]
  },
  {
   "cell_type": "code",
   "execution_count": 39,
   "metadata": {},
   "outputs": [
    {
     "data": {
      "text/plain": [
       "2-element Array{Float64,1}:\n",
       "  0.501309281\n",
       " -0.977697538"
      ]
     },
     "execution_count": 39,
     "metadata": {},
     "output_type": "execute_result"
    }
   ],
   "source": [
    "data[2,:]"
   ]
  },
  {
   "cell_type": "code",
   "execution_count": 40,
   "metadata": {},
   "outputs": [
    {
     "data": {
      "text/plain": [
       "2-element Array{Float64,1}:\n",
       "  1.6800483  \n",
       " -1.641695388"
      ]
     },
     "execution_count": 40,
     "metadata": {},
     "output_type": "execute_result"
    }
   ],
   "source": [
    "data[1,:]"
   ]
  },
  {
   "cell_type": "code",
   "execution_count": 41,
   "metadata": {},
   "outputs": [
    {
     "data": {
      "text/plain": [
       "false"
      ]
     },
     "execution_count": 41,
     "metadata": {},
     "output_type": "execute_result"
    }
   ],
   "source": [
    "x=0\n",
    "x === 0.0"
   ]
  },
  {
   "cell_type": "code",
   "execution_count": 42,
   "metadata": {},
   "outputs": [
    {
     "data": {
      "text/plain": [
       "1"
      ]
     },
     "execution_count": 42,
     "metadata": {},
     "output_type": "execute_result"
    }
   ],
   "source": [
    "mylist = [3, 2, 1]\n",
    "count=1\n",
    "for i in mylist\n",
    "  mylist[i]=count\n",
    "  count=count+1\n",
    "end\n",
    "\n",
    "mylist[3]"
   ]
  },
  {
   "cell_type": "code",
   "execution_count": 43,
   "metadata": {},
   "outputs": [
    {
     "data": {
      "text/plain": [
       "9"
      ]
     },
     "execution_count": 43,
     "metadata": {},
     "output_type": "execute_result"
    }
   ],
   "source": [
    "count=0\n",
    "for i=1:3\n",
    "  for j=1:3\n",
    "    count=count+1\n",
    "  end\n",
    "end\n",
    "count"
   ]
  },
  {
   "cell_type": "code",
   "execution_count": 44,
   "metadata": {},
   "outputs": [
    {
     "data": {
      "text/plain": [
       "12"
      ]
     },
     "execution_count": 44,
     "metadata": {},
     "output_type": "execute_result"
    }
   ],
   "source": [
    "summedvals = 3\n",
    "for k = 1:2:5  \n",
    "  summedvals = summedvals + k\n",
    "end\n",
    "summedvals"
   ]
  },
  {
   "cell_type": "code",
   "execution_count": null,
   "metadata": {},
   "outputs": [],
   "source": []
  }
 ],
 "metadata": {
  "kernelspec": {
   "display_name": "Julia 1.0.4",
   "language": "julia",
   "name": "julia-1.0"
  },
  "language_info": {
   "file_extension": ".jl",
   "mimetype": "application/julia",
   "name": "julia",
   "version": "1.0.4"
  }
 },
 "nbformat": 4,
 "nbformat_minor": 4
}
